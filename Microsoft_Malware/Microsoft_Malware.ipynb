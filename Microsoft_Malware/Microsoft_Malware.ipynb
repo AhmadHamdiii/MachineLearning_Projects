{
 "cells": [
  {
   "cell_type": "markdown",
   "metadata": {},
   "source": [
    "In this checkpoint, we are going to work on the 'Microsoft Malware' dataset that was provided by Kaggle as part of the Microsoft Malware Prediction competition. This checkpoint will cover all the major concepts of supervised and unsupervised machine learning methods. \n",
    "\n",
    "Dataset description : This dataset was derived from the original copy and simplified for learning purposes. It contains a set of machines, which run Microsoft Windows OS. The goal of this exercise is to predict a Windows machine’s probability of getting infected by various families of malware, based on different properties of that machine.\n",
    "\n",
    "![Image](https://i.imgur.com/hv2Ynyn_d.webp?maxwidth=780&fidelity=grand)\n",
    "\n",
    "#### Part1: supervised learning\n",
    "\n",
    "1. Import you data and perform basic data exploration phase\n",
    " - Display general information about the dataset\n",
    " - Create a pandas profiling reports to gain insights into the dataset\n",
    " - Handle Missing and corrupted values\n",
    " - Remove duplicates, if they exist\n",
    " - Handle outliers, if they exist\n",
    " - Encode categorical features\n",
    "2. Prepare your dataset for the modelling phase\n",
    "3. Apply Decision tree, and plot its ROC curve\n",
    "4. Try to improve your model performance by changing the model hyperparameters\n",
    "#### Part2: unsupervised learning\n",
    "\n",
    "1. Drop out the target variable\n",
    "2. Apply K means clustering and plot the clusters\n",
    "3. Find the optimal K parameter\n",
    "4. Interpret the results"
   ]
  },
  {
   "cell_type": "code",
   "execution_count": null,
   "metadata": {},
   "outputs": [],
   "source": []
  }
 ],
 "metadata": {
  "language_info": {
   "name": "python"
  }
 },
 "nbformat": 4,
 "nbformat_minor": 2
}
