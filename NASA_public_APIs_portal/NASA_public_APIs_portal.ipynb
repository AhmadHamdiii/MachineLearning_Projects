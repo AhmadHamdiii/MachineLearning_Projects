{
 "cells": [
  {
   "cell_type": "markdown",
   "metadata": {},
   "source": [
    "In this checkpoint, we are going to practice consuming public APIs through the NASA public APIs portal.\n",
    "\n",
    "Portal description : The objective of this portal is to make NASA data, including imagery, eminently accessible to application developers and data professionals. Before starting to use its APIs endpoints, it's mandatory that you generate your API KEY and store it somewhere for later use. The API key acts as the user identifier when requesting the API. To get your KEY, fill in the provided form with your personal information, and then we shall receive an email containing your personal API KEY.\n",
    "\n",
    "\n",
    "![Image](https://i.imgur.com/hisTmpk_d.webp?maxwidth=780&fidelity=grand)\n",
    "\n",
    "\n",
    "\n",
    "\n",
    "Instructions\n",
    "\n",
    "1. Go to the NASA API portal and generate your API KEY\n",
    "2. Import the requests package and store your API KEY in variable\n",
    "3. Go back to portal website and click on 'browse APIs'\n",
    "4. Click on the first dropdown menu, named 'APOD' and read its documentation\n",
    "5. Follow the provided documentation to ask the API endpoint for the astronomy picture of the day. Get then display the image on your notebook.\n",
    "6. Go through the list of the provided API endpoints once again and select 'Astronomy Picture of the Day' option. Store the results in a pandas dataframe\n",
    "7. Do the necessary data pre-processing tasks on the previous result in order to get a clean dataframe with the following columns :\n",
    " - Asteroid ID\n",
    " - Asteroid name\n",
    " - The Minimal estimated diameter in Kilometre\n",
    " - Absolute_magnitude\n",
    " - Relative_velocity(km/s)\n",
    "8. Try to export the new dataframe into a CSV file and share it with your colleagues"
   ]
  },
  {
   "cell_type": "code",
   "execution_count": 71,
   "metadata": {},
   "outputs": [],
   "source": [
    "import requests\n",
    "import pandas as pd"
   ]
  },
  {
   "cell_type": "code",
   "execution_count": 72,
   "metadata": {},
   "outputs": [],
   "source": [
    "api_key = 'P6JjSMsrv68cgtgBtXTaKzRZW9BB6GJAqKNLgVnG'"
   ]
  },
  {
   "cell_type": "code",
   "execution_count": 73,
   "metadata": {},
   "outputs": [],
   "source": [
    "api_url = 'https://api.nasa.gov/planetary/apod?api_key='+api_key"
   ]
  },
  {
   "cell_type": "code",
   "execution_count": 74,
   "metadata": {},
   "outputs": [
    {
     "data": {
      "text/html": [
       "<img src=\"https://apod.nasa.gov/apod/image/2406/HaLRGB+v2Pugh1100c.jpg\"/>"
      ],
      "text/plain": [
       "<IPython.core.display.Image object>"
      ]
     },
     "metadata": {},
     "output_type": "display_data"
    }
   ],
   "source": [
    "from IPython.display import Image, display\n",
    "apod_url = \"https://api.nasa.gov/planetary/apod\"\n",
    "params = {\n",
    "    'api_key': api_key\n",
    "}\n",
    "response = requests.get(apod_url, params=params)\n",
    "data = response.json()\n",
    "image_url = data['url']\n",
    "display(Image(url=image_url))"
   ]
  },
  {
   "cell_type": "code",
   "execution_count": 75,
   "metadata": {},
   "outputs": [
    {
     "data": {
      "text/html": [
       "<div>\n",
       "<style scoped>\n",
       "    .dataframe tbody tr th:only-of-type {\n",
       "        vertical-align: middle;\n",
       "    }\n",
       "\n",
       "    .dataframe tbody tr th {\n",
       "        vertical-align: top;\n",
       "    }\n",
       "\n",
       "    .dataframe thead th {\n",
       "        text-align: right;\n",
       "    }\n",
       "</style>\n",
       "<table border=\"1\" class=\"dataframe\">\n",
       "  <thead>\n",
       "    <tr style=\"text-align: right;\">\n",
       "      <th></th>\n",
       "      <th>id</th>\n",
       "      <th>name</th>\n",
       "      <th>estimated_diameter</th>\n",
       "      <th>absolute_magnitude_h</th>\n",
       "      <th>close_approach_data</th>\n",
       "    </tr>\n",
       "  </thead>\n",
       "  <tbody>\n",
       "    <tr>\n",
       "      <th>0</th>\n",
       "      <td>2000433</td>\n",
       "      <td>433 Eros (A898 PA)</td>\n",
       "      <td>{'kilometers': {'estimated_diameter_min': 22.0...</td>\n",
       "      <td>10.41</td>\n",
       "      <td>[{'close_approach_date': '1900-12-27', 'close_...</td>\n",
       "    </tr>\n",
       "    <tr>\n",
       "      <th>1</th>\n",
       "      <td>2000719</td>\n",
       "      <td>719 Albert (A911 TB)</td>\n",
       "      <td>{'kilometers': {'estimated_diameter_min': 2.02...</td>\n",
       "      <td>15.59</td>\n",
       "      <td>[{'close_approach_date': '1909-08-21', 'close_...</td>\n",
       "    </tr>\n",
       "    <tr>\n",
       "      <th>2</th>\n",
       "      <td>2000887</td>\n",
       "      <td>887 Alinda (A918 AA)</td>\n",
       "      <td>{'kilometers': {'estimated_diameter_min': 4.45...</td>\n",
       "      <td>13.88</td>\n",
       "      <td>[{'close_approach_date': '1910-01-04', 'close_...</td>\n",
       "    </tr>\n",
       "    <tr>\n",
       "      <th>3</th>\n",
       "      <td>2001036</td>\n",
       "      <td>1036 Ganymed (A924 UB)</td>\n",
       "      <td>{'kilometers': {'estimated_diameter_min': 37.5...</td>\n",
       "      <td>9.25</td>\n",
       "      <td>[{'close_approach_date': '1910-02-25', 'close_...</td>\n",
       "    </tr>\n",
       "    <tr>\n",
       "      <th>4</th>\n",
       "      <td>2001221</td>\n",
       "      <td>1221 Amor (1932 EA1)</td>\n",
       "      <td>{'kilometers': {'estimated_diameter_min': 0.88...</td>\n",
       "      <td>17.38</td>\n",
       "      <td>[{'close_approach_date': '1900-03-08', 'close_...</td>\n",
       "    </tr>\n",
       "  </tbody>\n",
       "</table>\n",
       "</div>"
      ],
      "text/plain": [
       "        id                    name  \\\n",
       "0  2000433      433 Eros (A898 PA)   \n",
       "1  2000719    719 Albert (A911 TB)   \n",
       "2  2000887    887 Alinda (A918 AA)   \n",
       "3  2001036  1036 Ganymed (A924 UB)   \n",
       "4  2001221    1221 Amor (1932 EA1)   \n",
       "\n",
       "                                  estimated_diameter  absolute_magnitude_h  \\\n",
       "0  {'kilometers': {'estimated_diameter_min': 22.0...                 10.41   \n",
       "1  {'kilometers': {'estimated_diameter_min': 2.02...                 15.59   \n",
       "2  {'kilometers': {'estimated_diameter_min': 4.45...                 13.88   \n",
       "3  {'kilometers': {'estimated_diameter_min': 37.5...                  9.25   \n",
       "4  {'kilometers': {'estimated_diameter_min': 0.88...                 17.38   \n",
       "\n",
       "                                 close_approach_data  \n",
       "0  [{'close_approach_date': '1900-12-27', 'close_...  \n",
       "1  [{'close_approach_date': '1909-08-21', 'close_...  \n",
       "2  [{'close_approach_date': '1910-01-04', 'close_...  \n",
       "3  [{'close_approach_date': '1910-02-25', 'close_...  \n",
       "4  [{'close_approach_date': '1900-03-08', 'close_...  "
      ]
     },
     "execution_count": 75,
     "metadata": {},
     "output_type": "execute_result"
    }
   ],
   "source": [
    "neows_url = \"https://api.nasa.gov/neo/rest/v1/neo/browse\"\n",
    "params = {\n",
    "    'api_key': api_key\n",
    "}\n",
    "response = requests.get(neows_url, params=params)\n",
    "asteroid_data = response.json()\n",
    "\n",
    "asteroids = asteroid_data['near_earth_objects']\n",
    "df = pd.DataFrame(asteroids, columns=['id', 'name', 'estimated_diameter', 'absolute_magnitude_h', 'close_approach_data'])\n",
    "\n",
    "df.head()"
   ]
  },
  {
   "cell_type": "code",
   "execution_count": 76,
   "metadata": {},
   "outputs": [
    {
     "data": {
      "text/html": [
       "<div>\n",
       "<style scoped>\n",
       "    .dataframe tbody tr th:only-of-type {\n",
       "        vertical-align: middle;\n",
       "    }\n",
       "\n",
       "    .dataframe tbody tr th {\n",
       "        vertical-align: top;\n",
       "    }\n",
       "\n",
       "    .dataframe thead th {\n",
       "        text-align: right;\n",
       "    }\n",
       "</style>\n",
       "<table border=\"1\" class=\"dataframe\">\n",
       "  <thead>\n",
       "    <tr style=\"text-align: right;\">\n",
       "      <th></th>\n",
       "      <th>Asteroid ID</th>\n",
       "      <th>Asteroid Name</th>\n",
       "      <th>Minimal Estimated Diameter (km)</th>\n",
       "      <th>Absolute Magnitude</th>\n",
       "      <th>Relative Velocity (km/s)</th>\n",
       "    </tr>\n",
       "  </thead>\n",
       "  <tbody>\n",
       "    <tr>\n",
       "      <th>0</th>\n",
       "      <td>2000433</td>\n",
       "      <td>433 Eros (A898 PA)</td>\n",
       "      <td>22.006703</td>\n",
       "      <td>10.41</td>\n",
       "      <td>5.5786191875</td>\n",
       "    </tr>\n",
       "    <tr>\n",
       "      <th>1</th>\n",
       "      <td>2000719</td>\n",
       "      <td>719 Albert (A911 TB)</td>\n",
       "      <td>2.025606</td>\n",
       "      <td>15.59</td>\n",
       "      <td>3.4460288901</td>\n",
       "    </tr>\n",
       "    <tr>\n",
       "      <th>2</th>\n",
       "      <td>2000887</td>\n",
       "      <td>887 Alinda (A918 AA)</td>\n",
       "      <td>4.451998</td>\n",
       "      <td>13.88</td>\n",
       "      <td>6.8047915885</td>\n",
       "    </tr>\n",
       "    <tr>\n",
       "      <th>3</th>\n",
       "      <td>2001036</td>\n",
       "      <td>1036 Ganymed (A924 UB)</td>\n",
       "      <td>37.545248</td>\n",
       "      <td>9.25</td>\n",
       "      <td>6.3038664776</td>\n",
       "    </tr>\n",
       "    <tr>\n",
       "      <th>4</th>\n",
       "      <td>2001221</td>\n",
       "      <td>1221 Amor (1932 EA1)</td>\n",
       "      <td>0.888290</td>\n",
       "      <td>17.38</td>\n",
       "      <td>13.26937926</td>\n",
       "    </tr>\n",
       "  </tbody>\n",
       "</table>\n",
       "</div>"
      ],
      "text/plain": [
       "  Asteroid ID           Asteroid Name  Minimal Estimated Diameter (km)  \\\n",
       "0     2000433      433 Eros (A898 PA)                        22.006703   \n",
       "1     2000719    719 Albert (A911 TB)                         2.025606   \n",
       "2     2000887    887 Alinda (A918 AA)                         4.451998   \n",
       "3     2001036  1036 Ganymed (A924 UB)                        37.545248   \n",
       "4     2001221    1221 Amor (1932 EA1)                         0.888290   \n",
       "\n",
       "   Absolute Magnitude Relative Velocity (km/s)  \n",
       "0               10.41             5.5786191875  \n",
       "1               15.59             3.4460288901  \n",
       "2               13.88             6.8047915885  \n",
       "3                9.25             6.3038664776  \n",
       "4               17.38              13.26937926  "
      ]
     },
     "execution_count": 76,
     "metadata": {},
     "output_type": "execute_result"
    }
   ],
   "source": [
    "cleaned_data = []\n",
    "for asteroid in asteroids:\n",
    "    asteroid_id = asteroid['id']\n",
    "    name = asteroid['name']\n",
    "    min_diameter_km = asteroid['estimated_diameter']['kilometers']['estimated_diameter_min']\n",
    "    absolute_magnitude = asteroid['absolute_magnitude_h']\n",
    "    relative_velocity = asteroid['close_approach_data'][0]['relative_velocity']['kilometers_per_second']\n",
    "    cleaned_data.append({\n",
    "        'Asteroid ID': asteroid_id,\n",
    "        'Asteroid Name': name,\n",
    "        'Minimal Estimated Diameter (km)': min_diameter_km,\n",
    "        'Absolute Magnitude': absolute_magnitude,\n",
    "        'Relative Velocity (km/s)': relative_velocity\n",
    "    })\n",
    "\n",
    "cleaned_df = pd.DataFrame(cleaned_data)\n",
    "\n",
    "cleaned_df.head()"
   ]
  }
 ],
 "metadata": {
  "kernelspec": {
   "display_name": "Python 3",
   "language": "python",
   "name": "python3"
  },
  "language_info": {
   "codemirror_mode": {
    "name": "ipython",
    "version": 3
   },
   "file_extension": ".py",
   "mimetype": "text/x-python",
   "name": "python",
   "nbconvert_exporter": "python",
   "pygments_lexer": "ipython3",
   "version": "3.12.3"
  }
 },
 "nbformat": 4,
 "nbformat_minor": 2
}
